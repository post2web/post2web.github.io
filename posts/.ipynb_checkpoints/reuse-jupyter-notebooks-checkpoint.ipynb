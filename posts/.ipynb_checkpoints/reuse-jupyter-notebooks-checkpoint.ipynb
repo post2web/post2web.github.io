{
 "cells": [
  {
   "cell_type": "markdown",
   "metadata": {},
   "source": [
    "# Use Jupyter Notebooks as \"Objects\"\n",
    "\n",
    "\n",
    "Jupyter Notebooks are great for data exploration, visualizing, documenting, prototyping and interacting with the code, but when it comes to creating a program out of a notebook or using the notebook in porduction they fall short. I often get myself copying cells from a notebook into a script so that I can run the code with command line arguments. There is no easy way to run a notebook and return a result from its execution, can't passing arguments to a notebook or running individual code cells programmatically. Have you ever wrapped a code cell to a function just so you want to call it in a loop with different parameters?\n",
    "\n",
    "I wrote a small utility tool ```nbloader``` that enables code reusing from jupyter notebooks. With it, you can import a notebook as an object, pass variables to its namespace, run code cells and pull out variables from its namespace.\n",
    "\n",
    "This tutorial will show you how to make your notebooks reusable with ```nbloader```.\n",
    "<!-- TEASER_END -->"
   ]
  },
  {
   "cell_type": "markdown",
   "metadata": {},
   "source": [
    "### Install nbloader with pip\n",
    "\n",
    "```shell\n",
    "pip install nbloader --upgrade\n",
    "```"
   ]
  },
  {
   "cell_type": "markdown",
   "metadata": {},
   "source": [
    "### Load a Notebook"
   ]
  },
  {
   "cell_type": "code",
   "execution_count": 1,
   "metadata": {},
   "outputs": [],
   "source": [
    "from nbloader import Notebook\n",
    "\n",
    "loaded_notebook = Notebook('test.ipynb')"
   ]
  },
  {
   "cell_type": "markdown",
   "metadata": {},
   "source": [
    "The above command loads a notebook as an object. This can be done inside a jupyter notebook or a regular python script."
   ]
  },
  {
   "cell_type": "markdown",
   "metadata": {},
   "source": [
    "### Run all cells"
   ]
  },
  {
   "cell_type": "code",
   "execution_count": 2,
   "metadata": {},
   "outputs": [
    {
     "name": "stdout",
     "output_type": "stream",
     "text": [
      "I am inside loaded_notebook!\n"
     ]
    },
    {
     "data": {
      "text/plain": [
       "<nbloader.Notebook at 0x1094388d0>"
      ]
     },
     "execution_count": 2,
     "metadata": {},
     "output_type": "execute_result"
    }
   ],
   "source": [
    "loaded_notebook.run_all()"
   ]
  },
  {
   "cell_type": "markdown",
   "metadata": {},
   "source": [
    "After ```loaded_notebook.run_all()``` is called:\n",
    "- The notebook is initialized with empty starting namespace.\n",
    "- All cells of the loaded notebook are executed one after another by the order they are the file.\n",
    "- All print statement or any other stdout from the loaded notebook will output.\n",
    "- All warnings or errors will be raised unless caught.\n",
    "- All variables from the loaded notebook's namespace will be accessible."
   ]
  },
  {
   "cell_type": "markdown",
   "metadata": {},
   "source": [
    "#### Here are the contents of loaded_notebook.ipynb\n",
    "\n",
    "<img src=\"images/loaded_notebook.png\" width=\"400\">"
   ]
  },
  {
   "cell_type": "markdown",
   "metadata": {},
   "source": [
    "#### This is how you access the namespace of the loaded notebook:"
   ]
  },
  {
   "cell_type": "code",
   "execution_count": 3,
   "metadata": {
    "scrolled": false
   },
   "outputs": [
    {
     "data": {
      "text/plain": [
       "6"
      ]
     },
     "execution_count": 3,
     "metadata": {},
     "output_type": "execute_result"
    }
   ],
   "source": [
    "loaded_notebook.ns['a']"
   ]
  },
  {
   "cell_type": "markdown",
   "metadata": {},
   "source": [
    "#### The notebooks namespace is just a dict so if you try to get something that's not there will get an error."
   ]
  },
  {
   "cell_type": "code",
   "execution_count": 4,
   "metadata": {},
   "outputs": [
    {
     "ename": "KeyError",
     "evalue": "'b'",
     "output_type": "error",
     "traceback": [
      "\u001b[0;31m---------------------------------------------------------------------------\u001b[0m",
      "\u001b[0;31mKeyError\u001b[0m                                  Traceback (most recent call last)",
      "\u001b[0;32m<ipython-input-4-0892bc683411>\u001b[0m in \u001b[0;36m<module>\u001b[0;34m()\u001b[0m\n\u001b[0;32m----> 1\u001b[0;31m \u001b[0mloaded_notebook\u001b[0m\u001b[0;34m.\u001b[0m\u001b[0mns\u001b[0m\u001b[0;34m[\u001b[0m\u001b[0;34m'b'\u001b[0m\u001b[0;34m]\u001b[0m\u001b[0;34m\u001b[0m\u001b[0m\n\u001b[0m",
      "\u001b[0;31mKeyError\u001b[0m: 'b'"
     ]
    }
   ],
   "source": [
    "loaded_notebook.ns['b']"
   ]
  },
  {
   "cell_type": "markdown",
   "metadata": {},
   "source": [
    "#### Run individual cells if they are tagged. "
   ]
  },
  {
   "cell_type": "code",
   "execution_count": 5,
   "metadata": {},
   "outputs": [
    {
     "name": "stdout",
     "output_type": "stream",
     "text": [
      "7\n",
      "8\n"
     ]
    }
   ],
   "source": [
    "loaded_notebook.run_tag('add_one')\n",
    "print(loaded_notebook.ns['a'])\n",
    "loaded_notebook.run_tag('add_one')\n",
    "print(loaded_notebook.ns['a'])"
   ]
  },
  {
   "cell_type": "markdown",
   "metadata": {},
   "source": [
    "If a cell has a comment on its first line it will become a tag. Cells can also be taged by the jupyter notebook tags."
   ]
  },
  {
   "cell_type": "markdown",
   "metadata": {},
   "source": [
    "#### This is how you access the notebook's namespace:"
   ]
  },
  {
   "cell_type": "code",
   "execution_count": 6,
   "metadata": {},
   "outputs": [
    {
     "name": "stdout",
     "output_type": "stream",
     "text": [
      "1\n"
     ]
    }
   ],
   "source": [
    "loaded_notebook.ns['a'] = 0\n",
    "loaded_notebook.run_tag('add_one')\n",
    "print(loaded_notebook.ns['a'])"
   ]
  },
  {
   "cell_type": "markdown",
   "metadata": {},
   "source": [
    "The notebook namespace is what you would normally get with ```globals()``` when running the notebook the normal way with jupyter and since the namespace is just a dic, there is no performance penalty when passing large objects to the notebook. All the code from its cells is compiled and can be called in a loop with the speed of a regular function."
   ]
  },
  {
   "cell_type": "markdown",
   "metadata": {},
   "source": [
    "## Example workflows:"
   ]
  },
  {
   "cell_type": "markdown",
   "metadata": {},
   "source": [
    "#### Create a notebook to parse one file and then call it in a loop when changing its namespace with a new value for ```filename```.\n",
    "\n",
    "<table style=\"width: 100%;\"><tr>\n",
    "    <td style=\"text-align: center;\">\n",
    "    <img src=\"images/looper.png\" width=\"400\"></td>\n",
    "    <td style=\"text-align: center;\">\n",
    "    <img src=\"images/parser.png\" width=\"400\"></td>\n",
    "</tr></table>"
   ]
  },
  {
   "cell_type": "markdown",
   "metadata": {},
   "source": [
    "#### Create a notebook with a model and then optimize it with different parameters.\n",
    "\n",
    "<table style=\"width: 100%;\"><tr>\n",
    "    <td style=\"text-align: center;\">\n",
    "    <img src=\"images/optimizer.png\" width=\"400\"></td>\n",
    "    <td style=\"text-align: center;\">\n",
    "    <img src=\"images/model.png\" width=\"400\"></td>\n",
    "</tr></table>"
   ]
  },
  {
   "cell_type": "markdown",
   "metadata": {},
   "source": [
    "### Added some ```magic_tags``` to make it act more like an a objects\n",
    "- if a cell has a tag name ```__init__``` will be run at initialization and when restarted.\n",
    "- if a cell has a tag name ```__del__``` will be run when deleted (or not)."
   ]
  },
  {
   "cell_type": "markdown",
   "metadata": {},
   "source": [
    "### [Warning] on using best practices!\n",
    "\n",
    "You may be tempted to load the current notebook and then loop a cell from it. I don't think this is a good practice."
   ]
  },
  {
   "cell_type": "markdown",
   "metadata": {},
   "source": [
    "## I'd love to hear your comments!"
   ]
  }
 ],
 "metadata": {
  "kernelspec": {
   "display_name": "Python 3",
   "language": "python",
   "name": "python3"
  },
  "language_info": {
   "codemirror_mode": {
    "name": "ipython",
    "version": 3
   },
   "file_extension": ".py",
   "mimetype": "text/x-python",
   "name": "python",
   "nbconvert_exporter": "python",
   "pygments_lexer": "ipython3",
   "version": "3.6.3"
  },
  "nikola": {
   "category": "",
   "date": "2018-02-03 12:05:01 UTC-08:00",
   "description": "",
   "link": "",
   "slug": "reuse-jupyter-notebooks",
   "tags": "",
   "title": "Reuse Jupyter Notebooks",
   "type": "text"
  }
 },
 "nbformat": 4,
 "nbformat_minor": 2
}
