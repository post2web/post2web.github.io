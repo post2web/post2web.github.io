{
 "cells": [
  {
   "cell_type": "markdown",
   "metadata": {},
   "source": [
    "# Jupyter Blogging in 5 minutes.\n",
    "\n",
    "Q: What is Jupyter Blogging?<br/>\n",
    "A: Blogging with jupyter notebooks.\n",
    "\n",
    "Q: Why Jupyter Blogging?<br/>\n",
    "A: As a Data Scientists, I use jupyter to create notebooks with code, equations, visualizations, documentation, etc. \"Jupyter Blogging\" allows me to share those notebooks with the world without any additional work.\n",
    "\n",
    "Q: How is this achieved?<br/>\n",
    "A: [Jupyter Notebook](http://jupyter.org) + \n",
    "[Github Pages](https://pages.github.com) + \n",
    "[Nikola](https://getnikola.com) = Jupyter Blogging.\n",
    "\n",
    "\n",
    "This tutorial will give you basic instructions for setting up a minimum blog powered by jupyter notebooks. This tutorial is written on a jupyter notebook.\n",
    "<!-- TEASER_END -->"
   ]
  },
  {
   "cell_type": "markdown",
   "metadata": {},
   "source": [
    "## Github Pages initial setup\n",
    "\n",
    "Github Pages will do the hosting in addition to versioning of your blog.\n",
    "1. Create a new repository named username.github.io, where username is your username (or organization name) on GitHub.\n",
    "2. Clone it as so:\n",
    "````shell\n",
    "git clone https://github.com/username/username.github.io\n",
    "cd username.github.io\n",
    "```\n",
    "In addition, any project you have on github that has a ```gh-pages``` branch can be accessed via \n",
    "```\n",
    "username.github.io/your-project\n",
    "```"
   ]
  },
  {
   "cell_type": "markdown",
   "metadata": {},
   "source": [
    "## Nikola setup\n",
    "\n",
    "Nikola will render all the HTML from the notebooks in a way that creates a blog structure.\n",
    "\n",
    "1. Install Nikola with pip:\n",
    "```shell\n",
    "pip install \"Nikola[extras]\"\n",
    "```\n",
    "2. Create Nikola project (inside website root directory):\n",
    "```shell\n",
    "nikola init .\n",
    "```\n",
    "This will bring a prompt with bunch of questions as \"site name\". All answers will modify ```conf.py``` file. You can use the dafault for everything and later on modify ```conf.py```.\n",
    "\n",
    "3. In order to use Jupyter notebooks, we need to edit the conf.py file that was just generated. Scroll down until you see POSTS and PAGES declaration and add .ipynb files lines.\n",
    "<pre>\n",
    "POSTS = (\n",
    "    <b>(\"posts/*.ipynb\", \"posts\", \"post.tmpl\"), # -- add this line</b>\n",
    "    (\"posts/*.rst\", \"posts\", \"post.tmpl\"),\n",
    "    (\"posts/*.md\", \"posts\", \"post.tmpl\"),\n",
    "    (\"posts/*.txt\", \"posts\", \"post.tmpl\"),\n",
    "    (\"posts/*.html\", \"posts\", \"post.tmpl\"),\n",
    ")\n",
    "PAGES = (\n",
    "    <b>(\"pages/*.ipynb\", \"pages\", \"page.tmpl\"), # -- add this line</b>\n",
    "    (\"pages/*.rst\", \"pages\", \"page.tmpl\"),\n",
    "    (\"pages/*.md\", \"pages\", \"page.tmpl\"),\n",
    "    (\"pages/*.txt\", \"pages\", \"page.tmpl\"),\n",
    "    (\"pages/*.html\", \"pages\", \"page.tmpl\"),\n",
    ")\n",
    "</pre>\n"
   ]
  },
  {
   "cell_type": "markdown",
   "metadata": {},
   "source": [
    "# Create a page\n",
    "\n",
    "Use nikola new_post command to add a new page. I would create an \"About\" page.\n",
    "```\n",
    "nikola new_page --title=\"About\" --format=markdown\n",
    "```"
   ]
  },
  {
   "cell_type": "markdown",
   "metadata": {},
   "source": [
    "# Create a post\n",
    "\n",
    "After you have an empty blog its time to add new posts.\n",
    "\n",
    "1. Use ```nikola new_post``` command to add a new post to the blog. When creating a jupyter notebook post specify ```--format=ipynb```. To create a post from existing notebook add option ```--import=../path/Foo.ipynb```\n",
    "\n",
    "    Create a post with a new empty notebook and edit it later:\n",
    "    ```shell. \n",
    "    nikola new_post --title=\"test\" --format=ipynb\n",
    "    ```\n",
    "    Create a post with an existing notebook:\n",
    "    ```shell. \n",
    "    nikola new_post --title=\"test\" --format=ipynb --import=../path/Foo.ipynb\n",
    "    ```\n",
    "\n",
    "2. A new jupyter notebook file ```posts/test.ipynb``` has been created. It will be empty unless your imported existing notebook. Optionally, open it with Jupyter to edit it's content."
   ]
  },
  {
   "cell_type": "markdown",
   "metadata": {},
   "source": [
    "# Build.\n",
    "\n",
    "Building will generate HTML from the program files.\n",
    "\n",
    "```shell\n",
    "nikola build\n",
    "```\n",
    "\n",
    "To view and render the blog start Nikola by:\n",
    "```shell\n",
    "nikola serve\n",
    "```\n",
    "\n",
    "Alternatively, you can use ```nikola auto``` for build and serve in one command.\n",
    "\n",
    "Point your broswer at ``` localhost:8000 ```. As changes are saved to the notebooks, the site will automatically rebuild and refresh, but it may take a few seconds.\n",
    "\n",
    "Press ```Ctrl+C``` at the command prompt to stop the server.\n",
    "\n",
    "For more information see [Nikola's Getting Started](https://getnikola.com/getting-started.html)"
   ]
  },
  {
   "cell_type": "markdown",
   "metadata": {},
   "source": [
    "## Delete or Update a post\n",
    "\n",
    "- To delete a post, delete the post_name.ipynb file inside posts drectory and rebuild.\n",
    "```shell\n",
    "rm -f posts/test.ipynb.ipynb\n",
    "nikola build\n",
    "```\n",
    "\n",
    "- To edit a post you can either:\n",
    "    - edit the file directly with jupyter\n",
    "    ```shell\n",
    "    jupyter notebook posts/test.ipynb\n",
    "    ```\n",
    "    - delete the post and create one with the same title from an existing notebook\n",
    "    ```shell\n",
    "    rm -f posts/test.ipynb\n",
    "    nikola new_post --title=\"test\" --format=ipynb --import=../path/Foo.ipynb\n",
    "    \n",
    "    ```\n",
    "    \n",
    "I cases where things don't get refreshed right after a file delete do:\n",
    "```\n",
    " nikola check -f --clean-files \n",
    "```"
   ]
  },
  {
   "cell_type": "markdown",
   "metadata": {},
   "source": [
    "## Deploy\n",
    "\n",
    "Nikola has github_deploy command that will publish to github pages.\n",
    "```\n",
    "nikola github_deploy\n",
    "```\n",
    "This command will creates two branches on your github: \n",
    "\tmaster - holds the rendered HTML of your site\n",
    "\tsrc - holds the files used for rendering as notebooks, configs and other.\n",
    "When you clone your repo you need to swithch branch to ```src``` in order to modify the site.\n",
    "```\n",
    "git checkout src\n",
    "```\n",
    "\n",
    "The blog should be live online. Go to https://username.github.io to confirm it is working."
   ]
  },
  {
   "cell_type": "markdown",
   "metadata": {},
   "source": [
    "## Enable teaser for posts\n",
    "\n",
    "Modify config.py to:\n",
    "\n",
    "```\n",
    "INDEXES_PAGES_MAIN = True # optional\n",
    "INDEX_TEASERS = True\n",
    "```\n",
    "\n",
    "Add this tag to a meta cell where you want the teaser to end:\n",
    "```\n",
    "<!-- TEASER_END -->\n",
    "```\n"
   ]
  },
  {
   "cell_type": "markdown",
   "metadata": {},
   "source": [
    "## Enable comments\n",
    "\n",
    "Create an account with disqus and modify config.py to:\n",
    "\n",
    "```\n",
    "COMMENT_SYSTEM = \"disqus\"\n",
    "# For DISQUS it's called the shortname\n",
    "COMMENT_SYSTEM_ID = \"username-github-io\"\n",
    "```"
   ]
  },
  {
   "cell_type": "markdown",
   "metadata": {},
   "source": [
    "## Alternatives to Nikola\n",
    "\n",
    "I choose Nikola for site generator because of its built-in Jupyter Notebook support. There are other alternatives that need workarounds to support notebooks.\n",
    "\n",
    "- Jekyll is the default framework used by github and is probably the most popular framework.\n",
    "- Pelican, is another site generator and it is more popular than Nikola."
   ]
  }
 ],
 "metadata": {
  "kernelspec": {
   "display_name": "Python 3",
   "language": "python",
   "name": "python3"
  },
  "language_info": {
   "codemirror_mode": {
    "name": "ipython",
    "version": 3
   },
   "file_extension": ".py",
   "mimetype": "text/x-python",
   "name": "python",
   "nbconvert_exporter": "python",
   "pygments_lexer": "ipython3",
   "version": "3.5.3"
  },
  "nikola": {
   "category": "",
   "date": "2018-01-14 15:01:33 UTC-08:00",
   "description": "",
   "link": "",
   "slug": "jupyter-blogging",
   "tags": "",
   "title": "Jupyter Blogging",
   "type": "text"
  },
  "toc": {
   "colors": {
    "hover_highlight": "#DAA520",
    "navigate_num": "#000000",
    "navigate_text": "#333333",
    "running_highlight": "#FF0000",
    "selected_highlight": "#FFD700",
    "sidebar_border": "#EEEEEE",
    "wrapper_background": "#FFFFFF"
   },
   "moveMenuLeft": true,
   "nav_menu": {
    "height": "195px",
    "width": "252px"
   },
   "navigate_menu": true,
   "number_sections": true,
   "sideBar": true,
   "threshold": 4,
   "toc_cell": false,
   "toc_section_display": "block",
   "toc_window_display": false,
   "widenNotebook": false
  }
 },
 "nbformat": 4,
 "nbformat_minor": 2
}
