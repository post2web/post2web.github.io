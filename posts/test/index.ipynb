{
 "cells": [
  {
   "cell_type": "markdown",
   "metadata": {},
   "source": [
    "# Jupyter Blogging in 5 minutes.\n",
    "\n",
    "Q: What is Jupyter Blogging?<br/>\n",
    "A: Blogging with jupyter notebooks.\n",
    "\n",
    "Q: Why Jupyter Blogging?<br/>\n",
    "A: As a Data Scientists, I use jupyter to create notebooks with code, equations, visualizations, documentation, etc. \"Jupyter Blogging\" allows me to share those notebooks with the world without any additional work.\n",
    "\n",
    "Q: How is this achieved?<br/>\n",
    "A: [Jupyter Notebook](http://jupyter.org) + \n",
    "[Github Pages](https://pages.github.com) + \n",
    "[Nikola](https://getnikola.com) = Jupyter Blogging.\n",
    "\n",
    "\n",
    "This tutorial will give you basic instructions for setting up a minimum blog powered by jupyter notebooks. This tutorial is written on a jupyter notebook."
   ]
  },
  {
   "cell_type": "markdown",
   "metadata": {},
   "source": [
    "## Github Pages initial setup\n",
    "\n",
    "Github Pages will do the hosting in addition to versioning of your blog.\n",
    "1. Create a new repository named username.github.io, where username is your username (or organization name) on GitHub.\n",
    "2. Clone it as so:\n",
    "````shell\n",
    "git clone https://github.com/username/username.github.io\n",
    "cd username.github.io\n",
    "```\n",
    "In addition, any project you have on github that has a ```gh-pages``` branch can be accessed via \n",
    "```\n",
    "username.github.io/your-project\n",
    "```"
   ]
  },
  {
   "cell_type": "markdown",
   "metadata": {},
   "source": [
    "## Nikola setup\n",
    "\n",
    "Nikola will render all the HTML from the notebooks in a way that creates a blog structure.\n",
    "\n",
    "1. Install Nikola with pip:\n",
    "```shell\n",
    "pip install \"Nikola[extras]\"\n",
    "```\n",
    "2. Create Nikola project (inside website root directory):\n",
    "```shell\n",
    "nikola init .\n",
    "```\n",
    "3. In order to use Jupyter notebooks, we need to edit the conf.py file that was just generated. Scroll down until you see POSTS and PAGES declaration and add .ipynb files lines.\n",
    "<pre>\n",
    "POSTS = (\n",
    "    <b>(\"posts/*.ipynb\", \"posts\", \"post.tmpl\"), # -- add this line</b>\n",
    "    (\"posts/*.rst\", \"posts\", \"post.tmpl\"),\n",
    "    (\"posts/*.md\", \"posts\", \"post.tmpl\"),\n",
    "    (\"posts/*.txt\", \"posts\", \"post.tmpl\"),\n",
    "    (\"posts/*.html\", \"posts\", \"post.tmpl\"),\n",
    ")\n",
    "PAGES = (\n",
    "    <b>(\"pages/*.ipynb\", \"pages\", \"page.tmpl\"), # -- add this line</b>\n",
    "    (\"pages/*.rst\", \"pages\", \"page.tmpl\"),\n",
    "    (\"pages/*.md\", \"pages\", \"page.tmpl\"),\n",
    "    (\"pages/*.txt\", \"pages\", \"page.tmpl\"),\n",
    "    (\"pages/*.html\", \"pages\", \"page.tmpl\"),\n",
    ")\n",
    "</pre>\n"
   ]
  },
  {
   "cell_type": "markdown",
   "metadata": {},
   "source": [
    "## Create a post\n",
    "\n",
    "After you have an empty blog its time to add new posts.\n",
    "\n",
    "1. Use ```nikola new_post``` command to add a new post to the blog. When creating a jupyter notebook post specify ```--format=ipynb```. To create a post from existing notebook add option ```--import=../path/Foo.ipynb```\n",
    "\n",
    "    Create a post with a new empty notebook and edit it later:\n",
    "    ```shell. \n",
    "    nikola new_post --title=\"test\" --format=ipynb\n",
    "    ```\n",
    "    Create a post with an existing notebook:\n",
    "    ```shell. \n",
    "    nikola new_post --title=\"test\" --format=ipynb --import=../path/Foo.ipynb\n",
    "    ```\n",
    "\n",
    "2. A new jupyter notebook file ```posts/test.ipynb``` has been created. It will be empty unless your imported existing notebook. Optionally, open it with Jupyter to edit it's content.\n",
    "4. Build your blog.\n",
    "```\n",
    "nikola build\n",
    "```\n",
    "3. To view and render the blog start Nikola by:\n",
    "```shell\n",
    "nikola serve --browser\n",
    "```\n",
    "    Alternatively, you can use ```nikola auto``` for build and serve in one command.\n",
    "\n",
    "4. View your blog at ``` localhost:8000 ```. As changes are saved to the notebooks, the site will automatically rebuild and refresh, but it may take a few seconds.\n",
    "5. Press ```Ctrl+C``` to stop the server.\n",
    "\n",
    "For more information see [Nikola's Getting Started](https://getnikola.com/getting-started.html)"
   ]
  },
  {
   "cell_type": "markdown",
   "metadata": {},
   "source": [
    "## Delete or Update a post\n",
    "\n",
    "- To delete a post, delete the post_name.ipynb file inside posts drectory and rebuild.\n",
    "```shell\n",
    "rm -f posts/test.ipynb.ipynb\n",
    "nikola build\n",
    "```\n",
    "\n",
    "- To edit a post you can either:\n",
    "    - edit the file directly with jupyter\n",
    "    ```shell\n",
    "    jupyter notebook posts/test.ipynb\n",
    "    ```\n",
    "    - delete the post and create one with the same title from an existing notebook\n",
    "    ```shell\n",
    "    rm -f posts/test.ipynb\n",
    "    nikola new_post --title=\"test\" --format=ipynb --import=../path/Foo.ipynb\n",
    "    \n",
    "    ```"
   ]
  },
  {
   "cell_type": "markdown",
   "metadata": {},
   "source": [
    "## Deploy\n",
    "\n",
    "Nikola has github_deploy command that will publish to github pages.\n",
    "```\n",
    "nikola github_deploy\n",
    "```\n",
    "\n",
    "The blog should be live online. Go to https://username.github.io to confirm it is working."
   ]
  },
  {
   "cell_type": "markdown",
   "metadata": {},
   "source": [
    "## Customize\n",
    "\n",
    "You can customize Nikola when changing the theme, edit conf.py and add extensions.\n",
    "\n",
    "For more information see [Nikola's documentation](https://getnikola.com/documentation.html) or search for other tutorials."
   ]
  },
  {
   "cell_type": "markdown",
   "metadata": {},
   "source": [
    "## Alternatives to Nikola\n",
    "\n",
    "I choose Nikola for site generator because of its built-in Jupyter Notebook support. There are other alternatives that need workarounds to support notebooks.\n",
    "\n",
    "- Jekyll is the default framework used by github and is probably the most popular framework.\n",
    "- Pelican, is another site generator and it is more popular than Nikola."
   ]
  }
 ],
 "metadata": {
  "kernelspec": {
   "display_name": "Python 3",
   "language": "python",
   "name": "python3"
  },
  "language_info": {
   "codemirror_mode": {
    "name": "ipython",
    "version": 3
   },
   "file_extension": ".py",
   "mimetype": "text/x-python",
   "name": "python",
   "nbconvert_exporter": "python",
   "pygments_lexer": "ipython3",
   "version": "3.6.3"
  },
  "nikola": {
   "category": "",
   "date": "2018-01-14 14:38:58 UTC-08:00",
   "description": "",
   "link": "",
   "slug": "test",
   "tags": "",
   "title": "test",
   "type": "text"
  }
 },
 "nbformat": 4,
 "nbformat_minor": 2
}
